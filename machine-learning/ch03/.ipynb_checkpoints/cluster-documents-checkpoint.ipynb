{
 "metadata": {
  "name": "",
  "signature": "sha256:84fc21716258ebf2878f057dbf53b4c3d9172800ef94e8c38226f1a1a3d49712"
 },
 "nbformat": 3,
 "nbformat_minor": 0,
 "worksheets": [
  {
   "cells": [
    {
     "cell_type": "code",
     "collapsed": false,
     "input": [
      "# download data from http://mlcomp.org/datasets/379\n",
      "import sklearn.datasets\n",
      "MLCOMP_DIR = \"data\"\n",
      "data = sklearn.datasets.load_mlcomp(\"20news-18828\", mlcomp_root = MLCOMP_DIR)\n",
      "print(data.filenames)"
     ],
     "language": "python",
     "metadata": {},
     "outputs": [
      {
       "output_type": "stream",
       "stream": "stdout",
       "text": [
        "[ '/Users/t-murata/workspace/machine-learning-etc/machine-learning/ch03/data/379/raw/comp.graphics/1190-38614'\n",
        " '/Users/t-murata/workspace/machine-learning-etc/machine-learning/ch03/data/379/raw/comp.graphics/1383-38616'\n",
        " '/Users/t-murata/workspace/machine-learning-etc/machine-learning/ch03/data/379/raw/alt.atheism/487-53344'\n",
        " ...,\n",
        " '/Users/t-murata/workspace/machine-learning-etc/machine-learning/ch03/data/379/raw/rec.sport.hockey/10215-54303'\n",
        " '/Users/t-murata/workspace/machine-learning-etc/machine-learning/ch03/data/379/raw/sci.crypt/10799-15660'\n",
        " '/Users/t-murata/workspace/machine-learning-etc/machine-learning/ch03/data/379/raw/comp.os.ms-windows.misc/2732-10871']\n"
       ]
      }
     ],
     "prompt_number": 5
    },
    {
     "cell_type": "code",
     "collapsed": false,
     "input": [
      "data.target_names"
     ],
     "language": "python",
     "metadata": {},
     "outputs": [
      {
       "metadata": {},
       "output_type": "pyout",
       "prompt_number": 6,
       "text": [
        "['alt.atheism',\n",
        " 'comp.graphics',\n",
        " 'comp.os.ms-windows.misc',\n",
        " 'comp.sys.ibm.pc.hardware',\n",
        " 'comp.sys.mac.hardware',\n",
        " 'comp.windows.x',\n",
        " 'misc.forsale',\n",
        " 'rec.autos',\n",
        " 'rec.motorcycles',\n",
        " 'rec.sport.baseball',\n",
        " 'rec.sport.hockey',\n",
        " 'sci.crypt',\n",
        " 'sci.electronics',\n",
        " 'sci.med',\n",
        " 'sci.space',\n",
        " 'soc.religion.christian',\n",
        " 'talk.politics.guns',\n",
        " 'talk.politics.mideast',\n",
        " 'talk.politics.misc',\n",
        " 'talk.religion.misc']"
       ]
      }
     ],
     "prompt_number": 6
    },
    {
     "cell_type": "code",
     "collapsed": false,
     "input": [
      "train_data = sklearn.datasets.load_mlcomp(\"20news-18828\", \"train\", mlcomp_root=MLCOMP_DIR)\n",
      "print(len(train_data.filenames))"
     ],
     "language": "python",
     "metadata": {},
     "outputs": [
      {
       "output_type": "stream",
       "stream": "stdout",
       "text": [
        "13180\n"
       ]
      }
     ],
     "prompt_number": 7
    },
    {
     "cell_type": "code",
     "collapsed": false,
     "input": [
      "test_data = sklearn.datasets.load_mlcomp(\"20news-18828\", \"test\", mlcomp_root=MLCOMP_DIR)\n",
      "print(len(test_data.filenames))"
     ],
     "language": "python",
     "metadata": {},
     "outputs": [
      {
       "output_type": "stream",
       "stream": "stdout",
       "text": [
        "5648\n"
       ]
      }
     ],
     "prompt_number": 9
    },
    {
     "cell_type": "code",
     "collapsed": false,
     "input": [
      "groups = [\n",
      "    'comp.graphics', 'comp.os.ms-windows.misc', 'comp.sys.ibm.pc.hardware',\n",
      "   'comp.sys.ma c.hardware', 'comp.windows.x', 'sci.space']\n",
      "dataset = sklearn.datasets.load_mlcomp(\"20news-18828\", \"train\",\n",
      "                                       mlcomp_root=MLCOMP_DIR,\n",
      "                                       categories=groups)\n",
      "print(len(train_data.filenames))"
     ],
     "language": "python",
     "metadata": {},
     "outputs": [
      {
       "output_type": "stream",
       "stream": "stdout",
       "text": [
        "3414\n"
       ]
      }
     ],
     "prompt_number": 16
    },
    {
     "cell_type": "code",
     "collapsed": false,
     "input": [
      "from sklearn.feature_extraction.text import TfidfVectorizer\n",
      "import nltk.stem\n",
      "english_stemmer = nltk.stem.SnowballStemmer('english')\n",
      "class StemmedTfidfVectorizer(TfidfVectorizer):\n",
      "    def build_analyzer(self):\n",
      "        analyzer = super(TfidfVectorizer, self).build_analyzer()\n",
      "        return lambda doc: (english_stemmer.stem(w) for w in analyzer(doc))"
     ],
     "language": "python",
     "metadata": {},
     "outputs": [],
     "prompt_number": 25
    },
    {
     "cell_type": "code",
     "collapsed": false,
     "input": [
      "# 3.3.3 custering\n",
      "# decode_error is correct, not charset_error...\n",
      "vectorizer = StemmedTfidfVectorizer(min_df=10, max_df=0.5,stop_words='english', decode_error='ignore')\n",
      "\n",
      "vectorized = vectorizer.fit_transform(train_data.data)\n",
      "num_samples, num_features = vectorized.shape\n",
      "print(\"samples: %d, #features: %d\" %(num_samples, num_features))"
     ],
     "language": "python",
     "metadata": {},
     "outputs": [
      {
       "output_type": "stream",
       "stream": "stdout",
       "text": [
        "samples: 3414, #features: 4331\n"
       ]
      }
     ],
     "prompt_number": 26
    },
    {
     "cell_type": "code",
     "collapsed": false,
     "input": [
      "num_clusters = 50\n",
      "from sklearn.cluster import KMeans\n",
      "\n",
      "km = KMeans(n_clusters=num_clusters, init='random', n_init=1, verbose=1)\n",
      "km.fit(vectorized)"
     ],
     "language": "python",
     "metadata": {},
     "outputs": [
      {
       "output_type": "stream",
       "stream": "stdout",
       "text": [
        "Initialization complete\n",
        "Iteration  0, inertia 5683.162"
       ]
      },
      {
       "output_type": "stream",
       "stream": "stdout",
       "text": [
        "\n",
        "Iteration  1, inertia 3104.253"
       ]
      },
      {
       "output_type": "stream",
       "stream": "stdout",
       "text": [
        "\n",
        "Iteration  2, inertia 3065.762"
       ]
      },
      {
       "output_type": "stream",
       "stream": "stdout",
       "text": [
        "\n",
        "Iteration  3, inertia 3047.096"
       ]
      },
      {
       "output_type": "stream",
       "stream": "stdout",
       "text": [
        "\n",
        "Iteration  4, inertia 3036.714"
       ]
      },
      {
       "output_type": "stream",
       "stream": "stdout",
       "text": [
        "\n",
        "Iteration  5, inertia 3029.818"
       ]
      },
      {
       "output_type": "stream",
       "stream": "stdout",
       "text": [
        "\n",
        "Iteration  6, inertia 3023.672"
       ]
      },
      {
       "output_type": "stream",
       "stream": "stdout",
       "text": [
        "\n",
        "Iteration  7, inertia 3018.604"
       ]
      },
      {
       "output_type": "stream",
       "stream": "stdout",
       "text": [
        "\n",
        "Iteration  8, inertia 3014.776"
       ]
      },
      {
       "output_type": "stream",
       "stream": "stdout",
       "text": [
        "\n",
        "Iteration  9, inertia 3012.107"
       ]
      },
      {
       "output_type": "stream",
       "stream": "stdout",
       "text": [
        "\n",
        "Iteration 10, inertia 3010.389"
       ]
      },
      {
       "output_type": "stream",
       "stream": "stdout",
       "text": [
        "\n",
        "Iteration 11, inertia 3009.275"
       ]
      },
      {
       "output_type": "stream",
       "stream": "stdout",
       "text": [
        "\n",
        "Iteration 12, inertia 3007.996"
       ]
      },
      {
       "output_type": "stream",
       "stream": "stdout",
       "text": [
        "\n",
        "Iteration 13, inertia 3006.802"
       ]
      },
      {
       "output_type": "stream",
       "stream": "stdout",
       "text": [
        "\n",
        "Iteration 14, inertia 3006.089"
       ]
      },
      {
       "output_type": "stream",
       "stream": "stdout",
       "text": [
        "\n",
        "Iteration 15, inertia 3005.673"
       ]
      },
      {
       "output_type": "stream",
       "stream": "stdout",
       "text": [
        "\n",
        "Iteration 16, inertia 3005.370"
       ]
      },
      {
       "output_type": "stream",
       "stream": "stdout",
       "text": [
        "\n",
        "Iteration 17, inertia 3005.278"
       ]
      },
      {
       "output_type": "stream",
       "stream": "stdout",
       "text": [
        "\n",
        "Iteration 18, inertia 3005.222"
       ]
      },
      {
       "output_type": "stream",
       "stream": "stdout",
       "text": [
        "\n",
        "Iteration 19, inertia 3005.201"
       ]
      },
      {
       "output_type": "stream",
       "stream": "stdout",
       "text": [
        "\n",
        "Iteration 20, inertia 3005.177"
       ]
      },
      {
       "output_type": "stream",
       "stream": "stdout",
       "text": [
        "\n",
        "Iteration 21, inertia 3005.153\n",
        "Iteration 22, inertia 3005.128"
       ]
      },
      {
       "output_type": "stream",
       "stream": "stdout",
       "text": [
        "\n",
        "Iteration 23, inertia 3005.104"
       ]
      },
      {
       "output_type": "stream",
       "stream": "stdout",
       "text": [
        "\n",
        "Converged at iteration 23\n"
       ]
      },
      {
       "metadata": {},
       "output_type": "pyout",
       "prompt_number": 29,
       "text": [
        "KMeans(copy_x=True, init='random', max_iter=300, n_clusters=50, n_init=1,\n",
        "    n_jobs=1, precompute_distances='auto', random_state=None, tol=0.0001,\n",
        "    verbose=1)"
       ]
      }
     ],
     "prompt_number": 29
    },
    {
     "cell_type": "code",
     "collapsed": false,
     "input": [
      "km.labels_"
     ],
     "language": "python",
     "metadata": {},
     "outputs": [
      {
       "metadata": {},
       "output_type": "pyout",
       "prompt_number": 30,
       "text": [
        "array([22, 45,  4, ...,  8, 23, 26], dtype=int32)"
       ]
      }
     ],
     "prompt_number": 30
    },
    {
     "cell_type": "code",
     "collapsed": false,
     "input": [
      "km.labels_.shape"
     ],
     "language": "python",
     "metadata": {},
     "outputs": [
      {
       "metadata": {},
       "output_type": "pyout",
       "prompt_number": 31,
       "text": [
        "(3414,)"
       ]
      }
     ],
     "prompt_number": 31
    },
    {
     "cell_type": "code",
     "collapsed": false,
     "input": [
      "new_post = \"\"\"\n",
      "Disk drive problems. Hi, I have a problem with my hard disk.\n",
      "After 1 year it is working only sporadically now.\n",
      "I tried to format it, but now it doesn't boot any more.\n",
      "Any ideas? Thanks.\n",
      "\"\"\"\n",
      "\n",
      "new_post_vec = vectorizer.transform([new_post])\n",
      "new_post_label = km.predict(new_post_vec)[0]\n",
      "print(new_post_vec)\n",
      "print(new_post_label)"
     ],
     "language": "python",
     "metadata": {},
     "outputs": [
      {
       "output_type": "stream",
       "stream": "stdout",
       "text": [
        "  (0, 4308)\t0.242494968268\n",
        "  (0, 4234)\t0.165878095819\n",
        "  (0, 3916)\t0.18451046657\n",
        "  (0, 3835)\t0.156395731566\n",
        "  (0, 3075)\t0.348515618409\n",
        "  (0, 2037)\t0.23966498998\n",
        "  (0, 1970)\t0.232633892935\n",
        "  (0, 1927)\t0.254259837936\n",
        "  (0, 1712)\t0.256575170558\n",
        "  (0, 1392)\t0.232843257614\n",
        "  (0, 1362)\t0.240128782622\n",
        "  (0, 1335)\t0.513150341116\n",
        "  (0, 767)\t0.341285757021\n",
        "5\n"
       ]
      }
     ],
     "prompt_number": 33
    },
    {
     "cell_type": "code",
     "collapsed": false,
     "input": [
      "simliar_indices = (km.labels_==new_post_label).nonzero()[0]\n",
      "print(simliar_indices)"
     ],
     "language": "python",
     "metadata": {},
     "outputs": [
      {
       "output_type": "stream",
       "stream": "stdout",
       "text": [
        "[  31  113  124  166  183  189  261  295  453  503  524  525  552  673  733\n",
        "  761  771  950 1053 1080 1120 1152 1175 1189 1321 1416 1674 1722 1763 1777\n",
        " 1846 1880 2049 2273 2287 2326 2438 2468 2490 2516 2525 2571 2727 2733 2753\n",
        " 2830 2880 2883 2897 2971 2982 3158 3180]\n"
       ]
      }
     ],
     "prompt_number": 36
    },
    {
     "cell_type": "code",
     "collapsed": false,
     "input": [
      "import scipy as sp\n",
      "similar = []\n",
      "for i in simliar_indices:\n",
      "    dist = sp.linalg.norm((new_post_vec - vectorized[i]).toarray())\n",
      "    similar.append((dist, dataset.data[i]))\n",
      "similar = sorted(similar)\n",
      "print(len(similar))"
     ],
     "language": "python",
     "metadata": {},
     "outputs": [
      {
       "output_type": "stream",
       "stream": "stdout",
       "text": [
        "53\n"
       ]
      }
     ],
     "prompt_number": 40
    },
    {
     "cell_type": "code",
     "collapsed": false,
     "input": [
      "show_at_1 = similar[0]\n",
      "show_at_2 = similar[len(similar)/2]\n",
      "show_at_3 = similar[-1]\n",
      "\n",
      "print(\"***************show at 1 [%f] ******************\" % show_at_1[0])\n",
      "print(show_at_1[1])\n",
      "print(\"***************show at 2 [%f] ******************\" % show_at_2[0])\n",
      "print(show_at_2[1])\n",
      "print(\"***************show at 3 [%f] ******************\" % show_at_3[0])\n",
      "print(show_at_3[1])"
     ],
     "language": "python",
     "metadata": {},
     "outputs": [
      {
       "output_type": "stream",
       "stream": "stdout",
       "text": [
        "***************show at 1 [1.018036] ******************\n",
        "From: Thomas Dachsel <GERTHD@mvs.sas.com>\n",
        "Subject: BOOT PROBLEM with IDE controller\n",
        "\n",
        "Hi,\n",
        "I've got a Multi I/O card (IDE controller + serial/parallel\n",
        "interface) and two floppy drives (5 1/4, 3 1/2) and a\n",
        "Quantum ProDrive 80AT connected to it.\n",
        "I was able to format the hard disk, but I could not boot from\n",
        "it. I can boot from drive A: (which disk drive does not matter)\n",
        "but if I remove the disk from drive A and press the reset switch,\n",
        "the LED of drive A: continues to glow, and the hard disk is\n",
        "not accessed at all.\n",
        "I guess this must be a problem of either the Multi I/o card\n",
        "or floppy disk drive settings (jumper configuration?)\n",
        "Does someone have any hint what could be the reason for it.\n",
        "Please reply by email to GERTHD@MVS.SAS.COM\n",
        "Thanks,\n",
        "Thomas\n",
        "+-------------------------------------------------------------------+\n",
        "| Thomas Dachsel                                                    |\n",
        "| Internet: GERTHD@MVS.SAS.COM                                      |\n",
        "| Fidonet:  Thomas_Dachsel@camel.fido.de (2:247/40)                 |\n",
        "| Subnet:   dachsel@rnivh.rni.sub.org (UUCP in Germany, now active) |\n",
        "| Phone:    +49 6221 4150 (work), +49 6203 12274 (home)             |\n",
        "| Fax:      +49 6221 415101                                         |\n",
        "| Snail:    SAS Institute GmbH, P.O.Box 105307, D-W-6900 Heidelberg |\n",
        "| Tagline:  One bad sector can ruin a whole day...                  |\n",
        "+-------------------------------------------------------------------+\n",
        "\n",
        "***************show at 2 [1.253220] ******************\n",
        "From: mlipsie@rdm09.std.com (Mike Lipsie MPU)\n",
        "Subject: Re: Splitting drives into two - does it make them faster?\n",
        "\n",
        "In article <6D8q2B5w165w@infopls.chi.il.us> andyross@infopls.chi.il.us (Andrew Rossmann) writes:\n",
        ">guyd@austin.ibm.com (Guy Dawson) writes:\n",
        ">\n",
        ">> > the partitions take up disk space, having 3 or 4 partition will cost\n",
        ">> > somewhere between 4-8 meg of hard disk space, if you can afoord this\n",
        ">> > luxury more power to you, its your choice.\n",
        ">> >\n",
        ">>\n",
        ">> Where does all this disk space go? The DOS partition table is fixed length\n",
        ">> and every hard disk carries one. What is useing this lost 4-8MB?\n",
        ">\n",
        ">  If I remember right, the partition table is allocated an entire CYLINDER.\n",
        ">To find out how much it takes up, you need to calculate:\n",
        ">heads * sectors * 512\n",
        ">\n",
        ">  Also, if you create an extended partition, there is a second 'partition'\n",
        ">in there for the logical drives.\n",
        "\n",
        "I think the original respondent (Guy Dawson?) was refering to something\n",
        "much more elementary.\n",
        "\n",
        "Every partition (whether it is the entire disk or not) has two FATs and\n",
        "an initial directory.\n",
        "\n",
        "If you have a small disk (50 meg or less), I would recommend that it remain\n",
        "a single partition. Unless you have some other consideration.\n",
        "\n",
        "If you have a large disk (greater than 200 meg), multiple partitions can\n",
        "make sense.\n",
        "\n",
        "-- \n",
        "Mike Lipsie                                (work) mlipsie@ca.merl.com\n",
        "Mitsubishi Electronic Research Laboratory  (home) mikel@dosbears.UUCP\n",
        "\n",
        "***************show at 3 [1.355464] ******************\n",
        "From: lioness@maple.circa.ufl.edu\n",
        "Subject: Joystick again\n",
        "\n",
        "\n",
        "My disk that had my joystick code that some of you were kind enough to mail\n",
        "me puked....specifically, I am looking for C code to read the position\n",
        "of joystick WITHOUT using int15h, i.e. accessing port 0x200/0x201 directly.\n",
        "\n",
        "I need it in C becaues of memory model considerations.\n",
        "\n",
        "I only need to be able to read the X and Y position also.\n",
        "\n",
        "Brian\n",
        "\n"
       ]
      }
     ],
     "prompt_number": 51
    },
    {
     "cell_type": "code",
     "collapsed": false,
     "input": [],
     "language": "python",
     "metadata": {},
     "outputs": []
    }
   ],
   "metadata": {}
  }
 ]
}