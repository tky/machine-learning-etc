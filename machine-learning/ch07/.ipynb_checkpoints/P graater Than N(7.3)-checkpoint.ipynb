{
 "metadata": {
  "name": "",
  "signature": "sha256:f004bb6ed9395f630425f3e139f039a1ab5c187c1a8c1a0cc76bee835332c220"
 },
 "nbformat": 3,
 "nbformat_minor": 0,
 "worksheets": [
  {
   "cells": [
    {
     "cell_type": "code",
     "collapsed": false,
     "input": [
      "%matplotlib inline\n",
      "from sklearn.datasets import load_svmlight_file\n",
      "from matplotlib import pyplot as plt\n",
      "import numpy as np\n",
      "# execute data/download.sh"
     ],
     "language": "python",
     "metadata": {},
     "outputs": [],
     "prompt_number": 10
    },
    {
     "cell_type": "code",
     "collapsed": false,
     "input": [
      "data, target = load_svmlight_file('data/E2006.train')"
     ],
     "language": "python",
     "metadata": {},
     "outputs": [],
     "prompt_number": 3
    },
    {
     "cell_type": "code",
     "collapsed": false,
     "input": [
      "print('Min target value: {}'.format(target.min()))\n",
      "print('Max target value: {}'.format(target.max()))\n",
      "print('Mean target value {}'.format(target.mean()))\n",
      "print('Std. dev. target: {}'.format(target.std()))"
     ],
     "language": "python",
     "metadata": {},
     "outputs": [
      {
       "output_type": "stream",
       "stream": "stdout",
       "text": [
        "Min target value: -7.89957807347\n",
        "Max target value: -0.51940952694\n",
        "Mean target value -3.51405313669\n",
        "Std. dev. target: 0.632278353911\n"
       ]
      }
     ],
     "prompt_number": 7
    },
    {
     "cell_type": "code",
     "collapsed": false,
     "input": [
      "from sklearn.linear_model import LinearRegression\n",
      "lr = LinearRegression(fit_intercept=True)\n",
      "lr.fit(data, target)\n",
      "p = np.array(map(lr.predict, data))\n",
      "p = p.ravel()\n",
      "e = p - target\n",
      "total_sq_error = np.sum(e*e)\n",
      "rmse_train = np.sqrt(total_sq_error/len(p))\n",
      "print(rmse_train)"
     ],
     "language": "python",
     "metadata": {},
     "outputs": [
      {
       "output_type": "stream",
       "stream": "stdout",
       "text": [
        "0.00241183754299\n"
       ]
      }
     ],
     "prompt_number": 11
    },
    {
     "cell_type": "code",
     "collapsed": false,
     "input": [],
     "language": "python",
     "metadata": {},
     "outputs": []
    }
   ],
   "metadata": {}
  }
 ]
}