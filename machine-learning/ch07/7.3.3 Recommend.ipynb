{
 "metadata": {
  "name": "",
  "signature": "sha256:51b1a31d47b5b2eaf43dc3868dfd6bc214808c45d918546e0da9145b0f411539"
 },
 "nbformat": 3,
 "nbformat_minor": 0,
 "worksheets": [
  {
   "cells": [
    {
     "cell_type": "code",
     "collapsed": false,
     "input": [
      "%matplotlib inline\n",
      "\n",
      "import numpy as np\n",
      "from scipy import sparse\n",
      "from sklearn.linear_model import LassoCV, RidgeCV, ElasticNetCV\n",
      "from sklearn.cross_validation import KFold"
     ],
     "language": "python",
     "metadata": {},
     "outputs": [],
     "prompt_number": 1
    },
    {
     "cell_type": "code",
     "collapsed": false,
     "input": [
      "#data[user_id, item_id, rating]\n",
      "data = np.array([[int(tok) for tok in line.split('\\t')[:3]]\n",
      "for line in open('data/ml-100k/u.data')])\n",
      "#data[user_id, item_id, rating]\n",
      "ij = data[:, :2]\n",
      "ij -= 1 # original data is in 1-based system\n",
      "# values rating data\n",
      "values = data[:, 2]\n",
      "# http://hamukazu.com/2014/12/03/internal-data-structure-scipy-sparse/\n",
      "reviews = sparse.csc_matrix((values, ij.T)).astype(float)\n",
      "reg = ElasticNetCV(fit_intercept=True, alphas=[0.0125, 0.025, 0.05, .125, .25, .5, 1., 2., 4.])\n"
     ],
     "language": "python",
     "metadata": {},
     "outputs": [],
     "prompt_number": 25
    },
    {
     "cell_type": "code",
     "collapsed": false,
     "input": [
      "def movie_norm(xc):\n",
      "    xc = xc.copy().toarray()\n",
      "    x1 = np.array([xi[xi > 0].mean() for xi in xc])\n",
      "    x1 = np.nan_to_num(x1)\n",
      "\n",
      "    for i in range(xc.shape[0]):\n",
      "        xc[i] -= (xc[i] > 0) * x1[i]\n",
      "    return xc, x1"
     ],
     "language": "python",
     "metadata": {},
     "outputs": [],
     "prompt_number": 33
    },
    {
     "cell_type": "code",
     "collapsed": false,
     "input": [
      "def learn_for(i):\n",
      "    u = reviews[i]\n",
      "    us = np.delete(np.arange(reviews.shape[0]), i)\n",
      "    ps, = np.where(u.toarray().ravel() > 0)\n",
      "    x = reviews[us][:, ps].T\n",
      "    y = u.data\n",
      "    err = 0\n",
      "    eb = 0\n",
      "    kf = KFold(len(y), n_folds=4)\n",
      "    for train, test in kf:\n",
      "        xc, x1 = movie_norm(x[train])\n",
      "        reg.fit(xc, y[train] - x1)\n",
      "\n",
      "        xc, x1 = movie_norm(x[test])\n",
      "        p = np.array([reg.predict(xi) for xi in xc]).ravel()\n",
      "        e = (p + x1) - y[test]\n",
      "        err += np.sum(e * e)\n",
      "        eb += np.sum((y[train].mean() - y[test]) ** 2)\n",
      "    return np.sqrt(err / float(len(y))), np.sqrt(eb / float(len(y)))"
     ],
     "language": "python",
     "metadata": {},
     "outputs": [],
     "prompt_number": 34
    },
    {
     "cell_type": "code",
     "collapsed": false,
     "input": [
      "whole_data = []\n",
      "for i in range(reviews.shape[0]):\n",
      "    s = learn_for(i)\n",
      "    # print(s[0] < s[1])\n",
      "    # print(s)\n",
      "    whole_data.append(s)"
     ],
     "language": "python",
     "metadata": {},
     "outputs": [
      {
       "output_type": "stream",
       "stream": "stderr",
       "text": [
        "/usr/local/lib/python2.7/site-packages/sklearn/linear_model/coordinate_descent.py:444: ConvergenceWarning: Objective did not converge. You might want to increase the number of iterations\n",
        "  ConvergenceWarning)\n"
       ]
      }
     ],
     "prompt_number": 35
    },
    {
     "cell_type": "code",
     "collapsed": false,
     "input": [],
     "language": "python",
     "metadata": {},
     "outputs": [
      {
       "metadata": {},
       "output_type": "pyout",
       "prompt_number": 37,
       "text": [
        "(0.99989044488975387, 1.2745427974613304)"
       ]
      }
     ],
     "prompt_number": 37
    }
   ],
   "metadata": {}
  }
 ]
}