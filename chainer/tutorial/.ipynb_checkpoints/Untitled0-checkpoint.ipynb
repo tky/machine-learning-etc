{
 "metadata": {
  "name": "",
  "signature": "sha256:fcf2ba2f70854cbda9324c2291ff56f369f93ce39959b0fe729efd81d7751d8a"
 },
 "nbformat": 3,
 "nbformat_minor": 0,
 "worksheets": []
}