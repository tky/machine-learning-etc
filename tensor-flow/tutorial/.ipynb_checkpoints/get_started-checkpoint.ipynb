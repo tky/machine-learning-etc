{
 "metadata": {
  "name": "",
  "signature": "sha256:de977dec56752bbe82a53a8617847501c242a64eb7b60f48a67a1c157d6aebcf"
 },
 "nbformat": 3,
 "nbformat_minor": 0,
 "worksheets": [
  {
   "cells": [
    {
     "cell_type": "code",
     "collapsed": false,
     "input": [
      "# https://www.tensorflow.org/versions/master/get_started/index.html\n",
      "import tensorflow as tf\n",
      "import numpy as np"
     ],
     "language": "python",
     "metadata": {},
     "outputs": [],
     "prompt_number": 7
    },
    {
     "cell_type": "code",
     "collapsed": false,
     "input": [
      "# Create 100 phony x, y data points in NumPy, y = x * 0.1 + 0.3\n",
      "x_data = np.random.rand(100).astype(\"float32\")\n",
      "y_data = x_data * 0.1 + 0.3\n",
      "\n",
      "# Try to find values for W and b that compute y_data = W * x_data + b\n",
      "# (We know that W should be 0.1 and b 0.3, but Tensorflow will\n",
      "# figure that out for us.)\n",
      "W = tf.Variable(tf.random_uniform([1], -1.0, 1.0))\n",
      "b = tf.Variable(tf.zeros([1]))\n",
      "y = W * x_data + b\n",
      "\n",
      "# Minimize the mean squared errors.\n",
      "loss = tf.reduce_mean(tf.square(y - y_data))\n",
      "optimizer = tf.train.GradientDescentOptimizer(0.5)\n",
      "train = optimizer.minimize(loss)\n",
      "\n",
      "# Before starting, initialize the variables.  We will 'run' this first.\n",
      "init = tf.initialize_all_variables()\n",
      "\n",
      "# Launch the graph.\n",
      "sess = tf.Session()\n",
      "sess.run(init)\n",
      "\n",
      "# Fit the line.\n",
      "for step in xrange(201):\n",
      "    sess.run(train)\n",
      "    if step % 20 == 0:\n",
      "        print(step, sess.run(W), sess.run(b))\n",
      "\n",
      "# Learns best fit is W: [0.1], b: [0.3]"
     ],
     "language": "python",
     "metadata": {},
     "outputs": [
      {
       "output_type": "stream",
       "stream": "stdout",
       "text": [
        "(0, array([ 0.58488965], dtype=float32), array([ 0.02969575], dtype=float32))\n",
        "(20, array([ 0.21730778], dtype=float32), array([ 0.23390086], dtype=float32))\n",
        "(40, array([ 0.12845306], dtype=float32), array([ 0.28396761], dtype=float32))\n",
        "(60, array([ 0.10690133], dtype=float32), array([ 0.29611135], dtype=float32))\n",
        "(80, array([ 0.10167391], dtype=float32), array([ 0.2990568], dtype=float32))\n",
        "(100, array([ 0.10040598], dtype=float32), array([ 0.29977125], dtype=float32))"
       ]
      },
      {
       "output_type": "stream",
       "stream": "stdout",
       "text": [
        "\n",
        "(120, array([ 0.10009849], dtype=float32), array([ 0.29994452], dtype=float32))\n",
        "(140, array([ 0.1000239], dtype=float32), array([ 0.29998654], dtype=float32))\n",
        "(160, array([ 0.10000578], dtype=float32), array([ 0.29999676], dtype=float32))\n",
        "(180, array([ 0.10000142], dtype=float32), array([ 0.29999921], dtype=float32))\n",
        "(200, array([ 0.10000035], dtype=float32), array([ 0.2999998], dtype=float32))"
       ]
      },
      {
       "output_type": "stream",
       "stream": "stdout",
       "text": [
        "\n"
       ]
      }
     ],
     "prompt_number": 8
    },
    {
     "cell_type": "code",
     "collapsed": false,
     "input": [],
     "language": "python",
     "metadata": {},
     "outputs": []
    }
   ],
   "metadata": {}
  }
 ]
}